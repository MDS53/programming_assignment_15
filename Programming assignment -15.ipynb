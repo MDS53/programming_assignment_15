{
 "cells": [
  {
   "cell_type": "markdown",
   "id": "7ffc83ed",
   "metadata": {},
   "source": [
    "### Question 1:\n",
    "Please write a program using generator to print the numbers which can be divisible by 5 and 7 between 0 and n in comma separated form while n is input by console.\n",
    "\n",
    "Example:\n",
    "\n",
    "If the following n is given as input to the program:\n",
    "\n",
    "100\n",
    "\n",
    "Then, the output of the program should be:\n",
    "\n",
    "0,35,70\n"
   ]
  },
  {
   "cell_type": "code",
   "execution_count": 8,
   "id": "299cfc97",
   "metadata": {},
   "outputs": [
    {
     "name": "stdout",
     "output_type": "stream",
     "text": [
      "400\n",
      "0\n",
      "35\n",
      "70\n",
      "105\n",
      "140\n",
      "175\n",
      "210\n",
      "245\n",
      "280\n",
      "315\n",
      "350\n",
      "385\n"
     ]
    }
   ],
   "source": [
    "def fun1(n):\n",
    "    \"\"\"This function which generates the number which are divisible by 5 and 7 from 0 to n (n-given argument)\"\"\"\n",
    "    for i in range(n):\n",
    "        if(i%5==0 and i%7==0):\n",
    "            yield i\n",
    "        else:\n",
    "            continue\n",
    "p=int(input())\n",
    "for i in fun1(p):\n",
    "    print(i)"
   ]
  },
  {
   "cell_type": "markdown",
   "id": "84e5c915",
   "metadata": {},
   "source": [
    "### Question 2:\n",
    "Please write a program using generator to print the even numbers between 0 and n in comma separated form while n is input by console.\n",
    "\n",
    "Example:\n",
    "\n",
    "If the following n is given as input to the program:\n",
    "\n",
    "10\n",
    "\n",
    "Then, the output of the program should be:\n",
    "\n",
    "0,2,4,6,8,10\n"
   ]
  },
  {
   "cell_type": "code",
   "execution_count": 10,
   "id": "42e82ee3",
   "metadata": {
    "scrolled": true
   },
   "outputs": [
    {
     "name": "stdout",
     "output_type": "stream",
     "text": [
      "10\n",
      "0\n",
      "2\n",
      "4\n",
      "6\n",
      "8\n",
      "10\n"
     ]
    }
   ],
   "source": [
    "def fun1(n):\n",
    "    \"\"\"This function which generates the even number  from 0 to n (n-given argument)\"\"\"\n",
    "    for i in range(n+1):\n",
    "        if(i%2==0):\n",
    "            yield i\n",
    "        else:\n",
    "            continue\n",
    "p=int(input())\n",
    "for i in fun1(p):\n",
    "    print(i)"
   ]
  },
  {
   "cell_type": "markdown",
   "id": "600bb54b",
   "metadata": {},
   "source": [
    "### Question 3\n",
    "The Fibonacci Sequence is computed based on the following formula:\n",
    "\n",
    "f(n)=0 if n=0\n",
    "\n",
    "f(n)=1 if n=1\n",
    "\n",
    "f(n)=f(n-1)+f(n-2) if n>1\n",
    "\n",
    "Please write a program using list comprehension to print the Fibonacci Sequence in comma separated form with a given n input by console.\n",
    "\n",
    "Example:\n",
    "\n",
    "If the following n is given as input to the program:\n",
    "\n",
    "7\n",
    "\n",
    "Then, the output of the program should be:\n",
    "\n",
    "0,1,1,2,3,5,8,13\n"
   ]
  },
  {
   "cell_type": "code",
   "execution_count": 87,
   "id": "1d7f01a1",
   "metadata": {},
   "outputs": [],
   "source": [
    "def fun2(n):\n",
    "    \"\"\"This function returns fibonacii series upto n terms(n-gieven argument)\"\"\"\n",
    "    f=0\n",
    "    r=0\n",
    "    s=1\n",
    "    t=0\n",
    "    k=[0,1]\n",
    "    if n==0:\n",
    "        return 0\n",
    "    elif n==1:\n",
    "        return 1\n",
    "    else:\n",
    "        l=[]\n",
    "        for i in range(2,n+1):\n",
    "            t=s+f\n",
    "            k.append([(t) for i in range(1)]) #list comprehension  \n",
    "            f=s\n",
    "            s=t\n",
    "        for j in k:\n",
    "            if type(j)==int:\n",
    "                l.append(j)\n",
    "            elif type(j)==list:\n",
    "                for q in j:\n",
    "                    r=int(q)\n",
    "                l.append(r)\n",
    "            else:\n",
    "                continue\n",
    "        return l\n",
    "                \n",
    "                "
   ]
  },
  {
   "cell_type": "code",
   "execution_count": 102,
   "id": "4e89dc0a",
   "metadata": {},
   "outputs": [
    {
     "name": "stdout",
     "output_type": "stream",
     "text": [
      "0,1,1,2,3,5,8,13\n"
     ]
    }
   ],
   "source": [
    "p=fun2(7)\n",
    "for i in p:\n",
    "    if i!=p[len(p)-1]:\n",
    "            print(i,end=\",\")\n",
    "    else:\n",
    "        print(i)"
   ]
  },
  {
   "cell_type": "markdown",
   "id": "a5ebacdb",
   "metadata": {},
   "source": [
    "### Question 4:\n",
    "Assuming that we have some email addresses in the \"username@companyname.com\" format, please write program to print the user name of a given email address. Both user names and company names are composed of letters only.\n",
    "\n",
    "Example:\n",
    "\n",
    "If the following email address is given as input to the program:\n",
    "\n",
    "john@google.com\n",
    "\n",
    "Then, the output of the program should be:\n",
    "\n",
    "john\n"
   ]
  },
  {
   "cell_type": "code",
   "execution_count": 104,
   "id": "6124b186",
   "metadata": {},
   "outputs": [
    {
     "name": "stdout",
     "output_type": "stream",
     "text": [
      "Salman@google.in\n",
      "Salman\n"
     ]
    }
   ],
   "source": [
    "n=input()\n",
    "k=\"\"\n",
    "for i in n:\n",
    "    if i==\"@\":\n",
    "        break\n",
    "    else:\n",
    "        k+=i\n",
    "print(k)"
   ]
  },
  {
   "cell_type": "markdown",
   "id": "0492434e",
   "metadata": {},
   "source": [
    "### Question 5:\n",
    "Define a class named Shape and its subclass Square. The Square class has an init function which takes a length as argument. Both classes have a area function which can print the area of the shape where Shape's area is 0 by default.\n",
    "\n"
   ]
  },
  {
   "cell_type": "code",
   "execution_count": 2,
   "id": "dc756a46",
   "metadata": {},
   "outputs": [],
   "source": [
    "class Shape:\n",
    "    def area(self):\n",
    "        return 0\n",
    "    \n",
    "class Square (Shape):\n",
    "    def __init__(self,l):\n",
    "        self.l=l\n",
    "    def area(self):\n",
    "        return (self.l)**2"
   ]
  },
  {
   "cell_type": "code",
   "execution_count": 7,
   "id": "14b2910c",
   "metadata": {},
   "outputs": [
    {
     "name": "stdout",
     "output_type": "stream",
     "text": [
      "0\n",
      "4\n"
     ]
    }
   ],
   "source": [
    "areaofshape=Shape()\n",
    "print(areaofshape.area())\n",
    "areaofsquare=Square(2)\n",
    "print(areaofsquare.area())"
   ]
  }
 ],
 "metadata": {
  "kernelspec": {
   "display_name": "Python 3",
   "language": "python",
   "name": "python3"
  },
  "language_info": {
   "codemirror_mode": {
    "name": "ipython",
    "version": 3
   },
   "file_extension": ".py",
   "mimetype": "text/x-python",
   "name": "python",
   "nbconvert_exporter": "python",
   "pygments_lexer": "ipython3",
   "version": "3.8.8"
  }
 },
 "nbformat": 4,
 "nbformat_minor": 5
}
